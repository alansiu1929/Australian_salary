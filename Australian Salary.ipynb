{
 "cells": [
  {
   "cell_type": "code",
   "execution_count": 16,
   "metadata": {},
   "outputs": [],
   "source": [
    "import pandas as pd\n",
    "from numpy import genfromtxt"
   ]
  },
  {
   "cell_type": "code",
   "execution_count": 28,
   "metadata": {},
   "outputs": [],
   "source": [
    "df=pd.read_csv('~/desktop/datasource/australian_salary.csv')"
   ]
  },
  {
   "cell_type": "code",
   "execution_count": 29,
   "metadata": {},
   "outputs": [
    {
     "data": {
      "text/html": [
       "<div>\n",
       "<style scoped>\n",
       "    .dataframe tbody tr th:only-of-type {\n",
       "        vertical-align: middle;\n",
       "    }\n",
       "\n",
       "    .dataframe tbody tr th {\n",
       "        vertical-align: top;\n",
       "    }\n",
       "\n",
       "    .dataframe thead th {\n",
       "        text-align: right;\n",
       "    }\n",
       "</style>\n",
       "<table border=\"1\" class=\"dataframe\">\n",
       "  <thead>\n",
       "    <tr style=\"text-align: right;\">\n",
       "      <th></th>\n",
       "      <th>gender_rank</th>\n",
       "      <th>occupation</th>\n",
       "      <th>gender</th>\n",
       "      <th>individuals</th>\n",
       "      <th>average_taxable_income</th>\n",
       "    </tr>\n",
       "  </thead>\n",
       "  <tbody>\n",
       "    <tr>\n",
       "      <th>0</th>\n",
       "      <td>795</td>\n",
       "      <td>Abattoir process worker; Meat process worker; ...</td>\n",
       "      <td>Female</td>\n",
       "      <td>5961</td>\n",
       "      <td>36359</td>\n",
       "    </tr>\n",
       "    <tr>\n",
       "      <th>1</th>\n",
       "      <td>881</td>\n",
       "      <td>Abattoir process worker; Meat process worker; ...</td>\n",
       "      <td>Male</td>\n",
       "      <td>17241</td>\n",
       "      <td>40954</td>\n",
       "    </tr>\n",
       "    <tr>\n",
       "      <th>2</th>\n",
       "      <td>699</td>\n",
       "      <td>Aboriginal and Torres Strait Islander educatio...</td>\n",
       "      <td>Female</td>\n",
       "      <td>1386</td>\n",
       "      <td>40926</td>\n",
       "    </tr>\n",
       "    <tr>\n",
       "      <th>3</th>\n",
       "      <td>828</td>\n",
       "      <td>Aboriginal and Torres Strait Islander educatio...</td>\n",
       "      <td>Male</td>\n",
       "      <td>636</td>\n",
       "      <td>44077</td>\n",
       "    </tr>\n",
       "    <tr>\n",
       "      <th>4</th>\n",
       "      <td>641</td>\n",
       "      <td>Aboriginal and Torres Strait Islander health l...</td>\n",
       "      <td>Female</td>\n",
       "      <td>1878</td>\n",
       "      <td>43545</td>\n",
       "    </tr>\n",
       "    <tr>\n",
       "      <th>5</th>\n",
       "      <td>760</td>\n",
       "      <td>Aboriginal and Torres Strait Islander health l...</td>\n",
       "      <td>Male</td>\n",
       "      <td>903</td>\n",
       "      <td>47833</td>\n",
       "    </tr>\n",
       "  </tbody>\n",
       "</table>\n",
       "</div>"
      ],
      "text/plain": [
       "   gender_rank                                         occupation  gender  \\\n",
       "0          795  Abattoir process worker; Meat process worker; ...  Female   \n",
       "1          881  Abattoir process worker; Meat process worker; ...    Male   \n",
       "2          699  Aboriginal and Torres Strait Islander educatio...  Female   \n",
       "3          828  Aboriginal and Torres Strait Islander educatio...    Male   \n",
       "4          641  Aboriginal and Torres Strait Islander health l...  Female   \n",
       "5          760  Aboriginal and Torres Strait Islander health l...    Male   \n",
       "\n",
       "   individuals  average_taxable_income  \n",
       "0         5961                   36359  \n",
       "1        17241                   40954  \n",
       "2         1386                   40926  \n",
       "3          636                   44077  \n",
       "4         1878                   43545  \n",
       "5          903                   47833  "
      ]
     },
     "execution_count": 29,
     "metadata": {},
     "output_type": "execute_result"
    }
   ],
   "source": [
    "df.head(6)"
   ]
  },
  {
   "cell_type": "code",
   "execution_count": 30,
   "metadata": {},
   "outputs": [
    {
     "name": "stdout",
     "output_type": "stream",
     "text": [
      "<class 'pandas.core.frame.DataFrame'>\n",
      "RangeIndex: 2197 entries, 0 to 2196\n",
      "Data columns (total 5 columns):\n",
      "gender_rank               2197 non-null int64\n",
      "occupation                2197 non-null object\n",
      "gender                    2197 non-null object\n",
      "individuals               2197 non-null int64\n",
      "average_taxable_income    2197 non-null int64\n",
      "dtypes: int64(3), object(2)\n",
      "memory usage: 85.9+ KB\n"
     ]
    }
   ],
   "source": [
    "df.info()"
   ]
  },
  {
   "cell_type": "code",
   "execution_count": 31,
   "metadata": {},
   "outputs": [
    {
     "data": {
      "text/html": [
       "<div>\n",
       "<style scoped>\n",
       "    .dataframe tbody tr th:only-of-type {\n",
       "        vertical-align: middle;\n",
       "    }\n",
       "\n",
       "    .dataframe tbody tr th {\n",
       "        vertical-align: top;\n",
       "    }\n",
       "\n",
       "    .dataframe thead th {\n",
       "        text-align: right;\n",
       "    }\n",
       "</style>\n",
       "<table border=\"1\" class=\"dataframe\">\n",
       "  <thead>\n",
       "    <tr style=\"text-align: right;\">\n",
       "      <th></th>\n",
       "      <th>gender_rank</th>\n",
       "      <th>individuals</th>\n",
       "      <th>average_taxable_income</th>\n",
       "    </tr>\n",
       "  </thead>\n",
       "  <tbody>\n",
       "    <tr>\n",
       "      <th>count</th>\n",
       "      <td>2197.000000</td>\n",
       "      <td>2197.000000</td>\n",
       "      <td>2197.000000</td>\n",
       "    </tr>\n",
       "    <tr>\n",
       "      <th>mean</th>\n",
       "      <td>549.763769</td>\n",
       "      <td>4683.712790</td>\n",
       "      <td>65678.155212</td>\n",
       "    </tr>\n",
       "    <tr>\n",
       "      <th>std</th>\n",
       "      <td>317.205550</td>\n",
       "      <td>14591.925071</td>\n",
       "      <td>51171.452173</td>\n",
       "    </tr>\n",
       "    <tr>\n",
       "      <th>min</th>\n",
       "      <td>1.000000</td>\n",
       "      <td>3.000000</td>\n",
       "      <td>13307.000000</td>\n",
       "    </tr>\n",
       "    <tr>\n",
       "      <th>25%</th>\n",
       "      <td>275.000000</td>\n",
       "      <td>209.000000</td>\n",
       "      <td>38909.000000</td>\n",
       "    </tr>\n",
       "    <tr>\n",
       "      <th>50%</th>\n",
       "      <td>550.000000</td>\n",
       "      <td>798.000000</td>\n",
       "      <td>53850.000000</td>\n",
       "    </tr>\n",
       "    <tr>\n",
       "      <th>75%</th>\n",
       "      <td>824.000000</td>\n",
       "      <td>2960.000000</td>\n",
       "      <td>74441.000000</td>\n",
       "    </tr>\n",
       "    <tr>\n",
       "      <th>max</th>\n",
       "      <td>1104.000000</td>\n",
       "      <td>293738.000000</td>\n",
       "      <td>577674.000000</td>\n",
       "    </tr>\n",
       "  </tbody>\n",
       "</table>\n",
       "</div>"
      ],
      "text/plain": [
       "       gender_rank    individuals  average_taxable_income\n",
       "count  2197.000000    2197.000000             2197.000000\n",
       "mean    549.763769    4683.712790            65678.155212\n",
       "std     317.205550   14591.925071            51171.452173\n",
       "min       1.000000       3.000000            13307.000000\n",
       "25%     275.000000     209.000000            38909.000000\n",
       "50%     550.000000     798.000000            53850.000000\n",
       "75%     824.000000    2960.000000            74441.000000\n",
       "max    1104.000000  293738.000000           577674.000000"
      ]
     },
     "execution_count": 31,
     "metadata": {},
     "output_type": "execute_result"
    }
   ],
   "source": [
    "df.describe()"
   ]
  },
  {
   "cell_type": "code",
   "execution_count": null,
   "metadata": {},
   "outputs": [],
   "source": []
  }
 ],
 "metadata": {
  "kernelspec": {
   "display_name": "Python 3",
   "language": "python",
   "name": "python3"
  },
  "language_info": {
   "codemirror_mode": {
    "name": "ipython",
    "version": 3
   },
   "file_extension": ".py",
   "mimetype": "text/x-python",
   "name": "python",
   "nbconvert_exporter": "python",
   "pygments_lexer": "ipython3",
   "version": "3.7.3"
  }
 },
 "nbformat": 4,
 "nbformat_minor": 2
}
